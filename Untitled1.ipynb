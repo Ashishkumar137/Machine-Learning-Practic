{
  "nbformat": 4,
  "nbformat_minor": 0,
  "metadata": {
    "colab": {
      "provenance": [],
      "authorship_tag": "ABX9TyMTcev0wkfOpxgOr+6pL3pU",
      "include_colab_link": true
    },
    "kernelspec": {
      "name": "python3",
      "display_name": "Python 3"
    },
    "language_info": {
      "name": "python"
    }
  },
  "cells": [
    {
      "cell_type": "markdown",
      "metadata": {
        "id": "view-in-github",
        "colab_type": "text"
      },
      "source": [
        "<a href=\"https://colab.research.google.com/github/Ashishkumar137/Machine-Learning-Practic/blob/main/Untitled1.ipynb\" target=\"_parent\"><img src=\"https://colab.research.google.com/assets/colab-badge.svg\" alt=\"Open In Colab\"/></a>"
      ]
    },
    {
      "cell_type": "markdown",
      "source": [
        "#Assignment 1"
      ],
      "metadata": {
        "id": "48IhYDHYaVQq"
      }
    },
    {
      "cell_type": "code",
      "source": [
        "# question 1 : Find the most frequent value in a NumPy array\n",
        "\n",
        "import numpy as np\n",
        "x = np.array([1,2,3,4,5,1,2,1,1,1])\n",
        "most_frequent_value = np.bincount(x).argmax()\n",
        "print(f\"Most frequent value: {most_frequent_value}\")\n"
      ],
      "metadata": {
        "colab": {
          "base_uri": "https://localhost:8080/"
        },
        "id": "Xv6Z06XVbHFq",
        "outputId": "26c7d6cf-d896-43d8-b845-5bf9ad551d04"
      },
      "execution_count": 1,
      "outputs": [
        {
          "output_type": "stream",
          "name": "stdout",
          "text": [
            "Most frequent value: 1\n"
          ]
        }
      ]
    },
    {
      "cell_type": "code",
      "source": [
        "# Quesion 2: compare two NumPy arrays?\n",
        "\n",
        "an_array = np.array([[1, 2], [3, 4]])\n",
        "another_array = np.array([[1, 2], [3, 4]])\n",
        "\n",
        "comparison = an_array == another_array\n",
        "print(comparison)\n"
      ],
      "metadata": {
        "colab": {
          "base_uri": "https://localhost:8080/"
        },
        "id": "RxGyI64-bmo3",
        "outputId": "2708a685-7f54-4163-8420-fdb99e6acc61"
      },
      "execution_count": 2,
      "outputs": [
        {
          "output_type": "stream",
          "name": "stdout",
          "text": [
            "[[ True  True]\n",
            " [ True  True]]\n"
          ]
        }
      ]
    },
    {
      "cell_type": "code",
      "source": [
        "# Question 3 Get the maximum value from given matrix\n",
        "\n",
        "gfg = np.matrix('[64, 1; 12, 3]')\n",
        "max_value = np.max(gfg)\n",
        "print(f\"Maximum value: {max_value}\")\n"
      ],
      "metadata": {
        "colab": {
          "base_uri": "https://localhost:8080/"
        },
        "id": "c8JTfc_JcF6n",
        "outputId": "0263a4da-10b9-4c3f-bc4f-de78ef0fca58"
      },
      "execution_count": 3,
      "outputs": [
        {
          "output_type": "stream",
          "name": "stdout",
          "text": [
            "Maximum value: 64\n"
          ]
        }
      ]
    },
    {
      "cell_type": "code",
      "source": [
        "# Question4: Replace negative value with zero in numpy array\n",
        "\n",
        "ini_array1 = np.array([1, 2, -3, 4, -5, -6])\n",
        "ini_array1[ini_array1 < 0] = 0\n",
        "print(ini_array1)\n"
      ],
      "metadata": {
        "colab": {
          "base_uri": "https://localhost:8080/"
        },
        "id": "zNd7wszbcYMa",
        "outputId": "3333b89f-fabf-4f6c-f321-8784e19409d5"
      },
      "execution_count": 4,
      "outputs": [
        {
          "output_type": "stream",
          "name": "stdout",
          "text": [
            "[1 2 0 4 0 0]\n"
          ]
        }
      ]
    },
    {
      "cell_type": "code",
      "source": [
        "# Q5: Make a Pandas DataFrame with two-dimensional list\n",
        "import pandas as pd\n",
        "lst = [['Geek', 25], ['is', 30], ['for', 26], ['Geeksforgeeks', 22]]\n",
        "\n",
        "# creating df object with columns specified\n",
        "df = pd.DataFrame(lst, columns=['Name', 'Age'])\n",
        "print(df)\n"
      ],
      "metadata": {
        "colab": {
          "base_uri": "https://localhost:8080/"
        },
        "id": "fNnYT_YScra9",
        "outputId": "096f972d-c085-40fa-cd69-3eb5fef8d805"
      },
      "execution_count": 5,
      "outputs": [
        {
          "output_type": "stream",
          "name": "stdout",
          "text": [
            "            Name  Age\n",
            "0           Geek   25\n",
            "1             is   30\n",
            "2            for   26\n",
            "3  Geeksforgeeks   22\n"
          ]
        }
      ]
    },
    {
      "cell_type": "code",
      "source": [
        "# Question 6: Creating DataFrame from dict of narray/lists\n",
        "\n",
        "data = {'Category': ['Array', 'Stack', 'Queue'], 'Marks': [20, 21, 19]}\n",
        "df = pd.DataFrame(data)\n",
        "print(df)\n"
      ],
      "metadata": {
        "colab": {
          "base_uri": "https://localhost:8080/"
        },
        "id": "_4w5JwDNdWOy",
        "outputId": "3e9a0228-78ed-46c2-c6b5-189063c84de2"
      },
      "execution_count": 6,
      "outputs": [
        {
          "output_type": "stream",
          "name": "stdout",
          "text": [
            "  Category  Marks\n",
            "0    Array     20\n",
            "1    Stack     21\n",
            "2    Queue     19\n"
          ]
        }
      ]
    },
    {
      "cell_type": "code",
      "source": [
        "#Question 7: Create a Pandas DataFrame from List of Dicts\n",
        "data = [{'Geeks': 'dataframe', 'For': 'using', 'geeks': 'list'},\n",
        "        {'Geeks':10, 'For': 20, 'geeks': 30}]\n",
        "\n",
        "df = pd.DataFrame(data)\n",
        "print(df)\n"
      ],
      "metadata": {
        "colab": {
          "base_uri": "https://localhost:8080/"
        },
        "id": "-ZFKDo9adzza",
        "outputId": "08670d40-89b4-4acf-8c81-f300ac62c482"
      },
      "execution_count": 7,
      "outputs": [
        {
          "output_type": "stream",
          "name": "stdout",
          "text": [
            "       Geeks    For geeks\n",
            "0  dataframe  using  list\n",
            "1         10     20    30\n"
          ]
        }
      ]
    },
    {
      "cell_type": "code",
      "source": [
        "# Question 8: Selecting rows in pandas DataFrame based on conditions\n",
        "record = {\n",
        "    'Name': ['Ankit', 'Amit', 'Aishwarya', 'Priyanka', 'Priya', 'Shaurya'],\n",
        "    'Age': [21, 19, 20, 18, 17, 21],\n",
        "    'Stream': ['Math', 'Commerce', 'Science', 'Math', 'Math', 'Science'],\n",
        "    'Percentage': [88, 92, 95, 70, 65, 78]\n",
        "}\n",
        "df = pd.DataFrame(record)\n",
        "\n",
        "# selecting rows based on condition\n",
        "selected_rows = df[df['Percentage'] > 80]\n",
        "print(selected_rows)\n"
      ],
      "metadata": {
        "colab": {
          "base_uri": "https://localhost:8080/"
        },
        "id": "8qT-xNkLeKXn",
        "outputId": "e6512118-8040-428f-8999-2b1d27114a71"
      },
      "execution_count": 8,
      "outputs": [
        {
          "output_type": "stream",
          "name": "stdout",
          "text": [
            "        Name  Age    Stream  Percentage\n",
            "0      Ankit   21      Math          88\n",
            "1       Amit   19  Commerce          92\n",
            "2  Aishwarya   20   Science          95\n"
          ]
        }
      ]
    },
    {
      "cell_type": "code",
      "source": [
        "# Question 9: Limited rows selection with given column in Pandas\n",
        "data = {'Name':['Jai', 'Princi', 'Gaurav', 'Anuj'],\n",
        "        'Age':[27, 24, 22, 32],\n",
        "        'Address':['Delhi', 'Kanpur', 'Allahabad', 'Kannauj'],\n",
        "        'Qualification':['Msc', 'MA', 'MCA', 'Phd']}\n",
        "df = pd.DataFrame(data)\n",
        "\n",
        "# Select first three rows and only 'Name' and 'Qualification' columns\n",
        "selected_rows = df[['Name', 'Qualification']].head(3)\n",
        "print(selected_rows)"
      ],
      "metadata": {
        "colab": {
          "base_uri": "https://localhost:8080/"
        },
        "id": "3g1wyOVoeoWJ",
        "outputId": "8fd3d468-ca07-4f12-be45-be631a4cff69"
      },
      "execution_count": 9,
      "outputs": [
        {
          "output_type": "stream",
          "name": "stdout",
          "text": [
            "     Name Qualification\n",
            "0     Jai           Msc\n",
            "1  Princi            MA\n",
            "2  Gaurav           MCA\n"
          ]
        }
      ]
    },
    {
      "cell_type": "code",
      "source": [
        "# Question10: Sorting rows in pandas DataFrame\n",
        "data = {'name': ['Simon', 'Marsh', 'Gaurav', 'Alex', 'Selena'],\n",
        "        'Maths': [8, 5, 6, 9, 7],\n",
        "        'Science': [7, 9, 5, 4, 7],\n",
        "        'English': [7, 4, 7, 6, 8]}\n",
        "df = pd.DataFrame(data)\n",
        "df = df.sort_values(by=['Science'], ascending=False)\n",
        "print(\"Sorting rows by Science:\\n \\n\", df)"
      ],
      "metadata": {
        "colab": {
          "base_uri": "https://localhost:8080/"
        },
        "id": "ckXj-Zl8fBGw",
        "outputId": "e210a67d-5184-44cd-9907-79da4babb189"
      },
      "execution_count": 10,
      "outputs": [
        {
          "output_type": "stream",
          "name": "stdout",
          "text": [
            "Sorting rows by Science:\n",
            " \n",
            "      name  Maths  Science  English\n",
            "1   Marsh      5        9        4\n",
            "0   Simon      8        7        7\n",
            "4  Selena      7        7        8\n",
            "2  Gaurav      6        5        7\n",
            "3    Alex      9        4        6\n"
          ]
        }
      ]
    },
    {
      "cell_type": "code",
      "source": [],
      "metadata": {
        "id": "PZ0JtRgPDQyM"
      },
      "execution_count": null,
      "outputs": []
    }
  ]
}