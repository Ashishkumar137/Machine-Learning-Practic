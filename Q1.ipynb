{
  "cells": [
    {
      "cell_type": "markdown",
      "metadata": {
        "id": "view-in-github",
        "colab_type": "text"
      },
      "source": [
        "<a href=\"https://colab.research.google.com/github/Ashishkumar137/Machine-Learning-Practic/blob/main/Q1.ipynb\" target=\"_parent\"><img src=\"https://colab.research.google.com/assets/colab-badge.svg\" alt=\"Open In Colab\"/></a>"
      ]
    },
    {
      "cell_type": "code",
      "execution_count": null,
      "metadata": {
        "colab": {
          "base_uri": "https://localhost:8080/"
        },
        "id": "yI7j1R2NnkTM",
        "outputId": "abd51074-6c74-425d-d6d4-bea74f342e62"
      },
      "outputs": [
        {
          "name": "stdout",
          "output_type": "stream",
          "text": [
            "   ID                Name      Roll_No Height Weight  Gender\n",
            "0   1        HEMANT SINGH  2.10133E+12    200     54    Male\n",
            "1   2         TANYA GUPTA  2.10133E+12      5     50  Female\n",
            "2   3  ABHAY PRATAP SINGH  2.10133E+12    6.1     83    Male\n",
            "3   4    KOMAL SRIVASTAVA  2.10133E+12    5'4   52kg  Female\n",
            "4   5       ADITYA MISHRA  2.10133E+12    170     72    Male\n",
            "   ID                Name      Roll_No  Height  Weight  Gender\n",
            "0   1        HEMANT SINGH  2.10133E+12  200.00    54.0    Male\n",
            "1   2         TANYA GUPTA  2.10133E+12    5.00    50.0  Female\n",
            "2   3  ABHAY PRATAP SINGH  2.10133E+12    6.10    83.0    Male\n",
            "3   4    KOMAL SRIVASTAVA  2.10133E+12  162.56    52.0  Female\n",
            "4   5       ADITYA MISHRA  2.10133E+12  170.00    72.0    Male\n"
          ]
        }
      ],
      "source": [
        "import pandas as pd\n",
        "df = pd.read_csv('/content/Gender.csv')\n",
        "\n",
        "\n",
        "print(df.head())\n",
        "\n",
        "\n",
        "def clean_height(height):\n",
        "    try:\n",
        "        return float(height)\n",
        "    except ValueError:\n",
        "        if \"'\" in height:\n",
        "            feet, inches = height.split(\"'\")\n",
        "            return int(feet) * 30.48 + int(inches) * 2.54\n",
        "        elif \"cm\" in height:\n",
        "            return float(height.replace(\"cm\", \"\"))\n",
        "        else:\n",
        "            return None\n",
        "\n",
        "df['Height'] = df['Height'].apply(clean_height)\n",
        "\n",
        "\n",
        "def clean_weight(weight):\n",
        "    try:\n",
        "        return float(weight)\n",
        "    except ValueError:\n",
        "        if \"kg\" in weight:\n",
        "            return float(weight.replace(\"kg\", \"\"))\n",
        "        else:\n",
        "            return None\n",
        "\n",
        "df['Weight'] = df['Weight'].apply(clean_weight)\n",
        "\n",
        "\n",
        "print(df.head())\n",
        "\n",
        "\n",
        "df.to_csv('/content/Gender.csv', index=False)\n"
      ]
    },
    {
      "cell_type": "code",
      "execution_count": null,
      "metadata": {
        "colab": {
          "base_uri": "https://localhost:8080/"
        },
        "id": "x1tZWkfTptV5",
        "outputId": "f3694cfb-84e4-4e57-c8e3-ec8d12bb3e16"
      },
      "outputs": [
        {
          "name": "stdout",
          "output_type": "stream",
          "text": [
            "   ID                Name  Height  Weight  Gender\n",
            "0   1        HEMANT SINGH  200.00    54.0    Male\n",
            "1   2         TANYA GUPTA    5.00    50.0  Female\n",
            "2   3  ABHAY PRATAP SINGH    6.10    83.0    Male\n",
            "3   4    KOMAL SRIVASTAVA  162.56    52.0  Female\n",
            "4   5       ADITYA MISHRA  170.00    72.0    Male\n"
          ]
        }
      ],
      "source": [
        "df.drop(columns=['Roll_No'], inplace=True)\n",
        "print(df.head())\n"
      ]
    },
    {
      "cell_type": "code",
      "execution_count": null,
      "metadata": {
        "colab": {
          "base_uri": "https://localhost:8080/"
        },
        "id": "K0tMnZdttYGj",
        "outputId": "e426aeab-0dae-4351-e5d5-c28200a2b4cb"
      },
      "outputs": [
        {
          "name": "stdout",
          "output_type": "stream",
          "text": [
            "ID         0\n",
            "Name       0\n",
            "Roll_No    0\n",
            "Height     5\n",
            "Weight     3\n",
            "Gender     0\n",
            "dtype: int64\n",
            "   ID                Name      Roll_No  Height  Weight  Gender\n",
            "0   1        HEMANT SINGH  2.10133E+12  200.00    54.0    Male\n",
            "1   2         TANYA GUPTA  2.10133E+12    5.00    50.0  Female\n",
            "2   3  ABHAY PRATAP SINGH  2.10133E+12    6.10    83.0    Male\n",
            "3   4    KOMAL SRIVASTAVA  2.10133E+12  162.56    52.0  Female\n",
            "4   5       ADITYA MISHRA  2.10133E+12  170.00    72.0    Male\n"
          ]
        }
      ],
      "source": [
        "# Load the dataset\n",
        "df = pd.read_csv('/content/Gender.csv')\n",
        "\n",
        "# Check for missing values\n",
        "print(df.isnull().sum())\n",
        "\n",
        "# Convert 'Height' and 'Weight' columns to numeric values\n",
        "df['Height'] = pd.to_numeric(df['Height'], errors='coerce')\n",
        "df['Weight'] = pd.to_numeric(df['Weight'], errors='coerce')\n",
        "\n",
        "# Drop rows with NaN values in 'Height' or 'Weight' columns\n",
        "df.dropna(subset=['Height', 'Weight'], inplace=True)\n",
        "\n",
        "\n",
        "print(df.head())\n"
      ]
    },
    {
      "cell_type": "code",
      "execution_count": null,
      "metadata": {
        "id": "DbzW7eKEqCYq"
      },
      "outputs": [],
      "source": [
        "import numpy as np\n",
        "import pandas as pd\n",
        "\n",
        "# Define sigmoid activation function\n",
        "def sigmoid(x):\n",
        "    return 1 / (1 + np.exp(-x))\n",
        "\n",
        "# Define derivative of sigmoid function\n",
        "def deriv_sigmoid(x):\n",
        "    fx = sigmoid(x)\n",
        "    return fx * (1 - fx)\n",
        "\n",
        "# Define mean squared error loss function\n",
        "def mse_loss(y_true, y_pred):\n",
        "    return ((y_true - y_pred) ** 2).mean()\n",
        "\n",
        "# Define neural network class\n",
        "class OurNeuralNetwork:\n",
        "    def __init__(self):\n",
        "        self.w1 = np.random.normal()\n",
        "        self.w2 = np.random.normal()\n",
        "        self.w3 = np.random.normal()\n",
        "        self.w4 = np.random.normal()\n",
        "        self.w5 = np.random.normal()\n",
        "        self.w6 = np.random.normal()\n",
        "        self.b1 = np.random.normal()\n",
        "        self.b2 = np.random.normal()\n",
        "        self.b3 = np.random.normal()\n",
        "\n",
        "    def feedforward(self, x):\n",
        "        h1 = sigmoid(self.w1 * x[0] + self.w2 * x[1] + self.b1)\n",
        "        h2 = sigmoid(self.w3 * x[0] + self.w4 * x[1] + self.b2)\n",
        "        o1 = sigmoid(self.w5 * h1 + self.w6 * h2 + self.b3)\n",
        "        return o1\n",
        "\n",
        "    def train(self, data, all_y_trues):\n",
        "        learn_rate = 0.1\n",
        "        epochs = 1000\n",
        "\n",
        "        for epoch in range(epochs):\n",
        "            for x, y_true in zip(data, all_y_trues):\n",
        "                sum_h1 = self.w1 * x[0] + self.w2 * x[1] + self.b1\n",
        "                h1 = sigmoid(sum_h1)\n",
        "\n",
        "                sum_h2 = self.w3 * x[0] + self.w4 * x[1] + self.b2\n",
        "                h2 = sigmoid(sum_h2)\n",
        "\n",
        "                sum_o1 = self.w5 * h1 + self.w6 * h2 + self.b3\n",
        "                o1 = sigmoid(sum_o1)\n",
        "                y_pred = o1\n",
        "\n",
        "                d_L_d_ypred = -2 * (y_true - y_pred)\n",
        "\n",
        "                d_ypred_d_w5 = h1 * deriv_sigmoid(sum_o1)\n",
        "                d_ypred_d_w6 = h2 * deriv_sigmoid(sum_o1)\n",
        "                d_ypred_d_b3 = deriv_sigmoid(sum_o1)\n",
        "\n",
        "                d_ypred_d_h1 = self.w5 * deriv_sigmoid(sum_o1)\n",
        "                d_ypred_d_h2 = self.w6 * deriv_sigmoid(sum_o1)\n",
        "\n",
        "                d_h1_d_w1 = x[0] * deriv_sigmoid(sum_h1)\n",
        "                d_h1_d_w2 = x[1] * deriv_sigmoid(sum_h1)\n",
        "                d_h1_d_b1 = deriv_sigmoid(sum_h1)\n",
        "\n",
        "                d_h2_d_w3 = x[0] * deriv_sigmoid(sum_h2)\n",
        "                d_h2_d_w4 = x[1] * deriv_sigmoid(sum_h2)\n",
        "                d_h2_d_b2 = deriv_sigmoid(sum_h2)\n",
        "\n",
        "                self.w1 -= learn_rate * d_L_d_ypred * d_ypred_d_h1 * d_h1_d_w1\n",
        "                self.w2 -= learn_rate * d_L_d_ypred * d_ypred_d_h1 * d_h1_d_w2\n",
        "                self.b1 -= learn_rate * d_L_d_ypred * d_ypred_d_h1 * d_h1_d_b1\n",
        "\n",
        "                self.w3 -= learn_rate * d_L_d_ypred * d_ypred_d_h2 * d_h2_d_w3\n",
        "                self.w4 -= learn_rate * d_L_d_ypred * d_ypred_d_h2 * d_h2_d_w4\n",
        "                self.b2 -= learn_rate * d_L_d_ypred * d_ypred_d_h2 * d_h2_d_b2\n",
        "\n",
        "                self.w5 -= learn_rate * d_L_d_ypred * d_ypred_d_w5\n",
        "                self.w6 -= learn_rate * d_L_d_ypred * d_ypred_d_w6\n",
        "                self.b3 -= learn_rate * d_L_d_ypred * d_ypred_d_b3\n",
        "\n",
        "            if epoch % 10 == 0:\n",
        "                y_preds = np.apply_along_axis(self.feedforward, 1, data)\n",
        "                loss = mse_loss(all_y_trues, y_preds)\n",
        "                print(\"Epoch %d loss: %.3f\" % (epoch, loss))\n",
        "\n",
        "# Load the dataset\n",
        "df = pd.read_csv('/content/Gender.csv')  # Replace 'your_dataset.csv' with your dataset filename\n",
        "\n",
        "# Clean the data\n",
        "# Convert 'Height' and 'Weight' columns to numeric values\n",
        "df['Height'] = pd.to_numeric(df['Height'], errors='coerce')\n",
        "df['Weight'] = pd.to_numeric(df['Weight'], errors='coerce')\n",
        "\n",
        "# Drop rows with NaN values in 'Height' or 'Weight' columns\n",
        "df.dropna(subset=['Height', 'Weight'], inplace=True)\n",
        "\n",
        "# Convert 'Gender' to numeric values (0 for Male, 1 for Female)\n",
        "X = df[['Height', 'Weight']].values\n",
        "y = df['Gender'].map({'Male': 0, 'Female': 1}).values\n",
        "\n",
        "# Train the neural network\n",
        "network = OurNeuralNetwork()\n",
        "network.train(X, y)\n",
        "\n",
        "# Make predictions for some individuals in the dataset\n",
        "for index, row in df.iterrows():\n",
        "    data = np.array([row['Height'], row['Weight']])\n",
        "    prediction = network.feedforward(data)\n",
        "    print(f\"Prediction for individual at index {index}: {prediction}\")\n"
      ]
    },
    {
      "cell_type": "code",
      "execution_count": null,
      "metadata": {
        "id": "PvM6IzpmsO6q"
      },
      "outputs": [],
      "source": []
    }
  ],
  "metadata": {
    "colab": {
      "provenance": [],
      "include_colab_link": true
    },
    "kernelspec": {
      "display_name": "Python 3",
      "name": "python3"
    },
    "language_info": {
      "name": "python"
    }
  },
  "nbformat": 4,
  "nbformat_minor": 0
}