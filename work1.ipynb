{
  "nbformat": 4,
  "nbformat_minor": 0,
  "metadata": {
    "colab": {
      "provenance": [],
      "authorship_tag": "ABX9TyML1vryf9bEHl9afsDcIZ5y",
      "include_colab_link": true
    },
    "kernelspec": {
      "name": "python3",
      "display_name": "Python 3"
    },
    "language_info": {
      "name": "python"
    }
  },
  "cells": [
    {
      "cell_type": "markdown",
      "metadata": {
        "id": "view-in-github",
        "colab_type": "text"
      },
      "source": [
        "<a href=\"https://colab.research.google.com/github/Ashishkumar137/Machine-Learning-Practic/blob/main/work1.ipynb\" target=\"_parent\"><img src=\"https://colab.research.google.com/assets/colab-badge.svg\" alt=\"Open In Colab\"/></a>"
      ]
    },
    {
      "cell_type": "code",
      "execution_count": 3,
      "metadata": {
        "id": "A672Nb3kxYMp"
      },
      "outputs": [],
      "source": [
        "import numpy as np\n",
        "import matplotlib.pyplot as plt\n",
        "%matplotlib inline\n"
      ]
    },
    {
      "cell_type": "code",
      "source": [
        "x = np.arange(-5,5,0.01)"
      ],
      "metadata": {
        "id": "vnKxygSQxxwh"
      },
      "execution_count": 4,
      "outputs": []
    },
    {
      "cell_type": "code",
      "source": [
        "def plot(func,yaxis = (-1.4,1.4)):\n",
        "  plt.ylim(yaxis)\n",
        "  plt.locator_params(nbins=5)\n",
        "  plt.xticks(fontsize=14)\n",
        "  plt.yticks(fontsize=14)\n",
        "  plt.axhline(lw=1,c='black')\n",
        "  plt.axvline(lw=1,c='black')\n",
        "  plt.grid(alpha=0.4,ls='-.')\n",
        "  plt.box(on=None)\n",
        "  plt.plot(x,func(x),c='r',lw=3)"
      ],
      "metadata": {
        "id": "7du9Vh3_yBe6"
      },
      "execution_count": 6,
      "outputs": []
    },
    {
      "cell_type": "code",
      "source": [
        "binary_step=np.vectorize(lambda x:1 if x>0 else 0,otypes=[float])\n",
        "plot(binary_step,yaxis=(-0.4,1.4))"
      ],
      "metadata": {
        "colab": {
          "base_uri": "https://localhost:8080/",
          "height": 435
        },
        "id": "sbIPDQFIztxs",
        "outputId": "e2e52f0b-cacb-45f9-de2e-640d93504057"
      },
      "execution_count": 9,
      "outputs": [
        {
          "output_type": "display_data",
          "data": {
            "text/plain": [
              "<Figure size 640x480 with 1 Axes>"
            ],
            "image/png": "[encoded data removed]"
          },
          "metadata": {}
        }
      ]
    },
    {
      "cell_type": "code",
      "source": [],
      "metadata": {
        "id": "rRsziX5k2HBO"
      },
      "execution_count": null,
      "outputs": []
    }
  ]
}